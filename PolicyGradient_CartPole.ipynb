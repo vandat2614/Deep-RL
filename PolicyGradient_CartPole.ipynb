{
  "nbformat": 4,
  "nbformat_minor": 0,
  "metadata": {
    "colab": {
      "provenance": [],
      "gpuType": "T4",
      "authorship_tag": "ABX9TyN6PU40bLQpn9IDsOxHJ4z4",
      "include_colab_link": true
    },
    "kernelspec": {
      "name": "python3",
      "display_name": "Python 3"
    },
    "language_info": {
      "name": "python"
    },
    "accelerator": "GPU",
    "widgets": {
      "application/vnd.jupyter.widget-state+json": {
        "b53b41ada23d4c37b4e0a1be4d5064a4": {
          "model_module": "@jupyter-widgets/controls",
          "model_name": "HBoxModel",
          "model_module_version": "1.5.0",
          "state": {
            "_dom_classes": [],
            "_model_module": "@jupyter-widgets/controls",
            "_model_module_version": "1.5.0",
            "_model_name": "HBoxModel",
            "_view_count": null,
            "_view_module": "@jupyter-widgets/controls",
            "_view_module_version": "1.5.0",
            "_view_name": "HBoxView",
            "box_style": "",
            "children": [
              "IPY_MODEL_09da878d3bac4e80b971ef1d55733f05",
              "IPY_MODEL_35e252607403493f87dd257e49fc362d",
              "IPY_MODEL_0d462e76cdbf48e1af984825e5d8677d"
            ],
            "layout": "IPY_MODEL_8addcf2b06e34af1903618c2fd898995"
          }
        },
        "09da878d3bac4e80b971ef1d55733f05": {
          "model_module": "@jupyter-widgets/controls",
          "model_name": "HTMLModel",
          "model_module_version": "1.5.0",
          "state": {
            "_dom_classes": [],
            "_model_module": "@jupyter-widgets/controls",
            "_model_module_version": "1.5.0",
            "_model_name": "HTMLModel",
            "_view_count": null,
            "_view_module": "@jupyter-widgets/controls",
            "_view_module_version": "1.5.0",
            "_view_name": "HTMLView",
            "description": "",
            "description_tooltip": null,
            "layout": "IPY_MODEL_38b45dc5b9f747f697d850a6b0ac6051",
            "placeholder": "​",
            "style": "IPY_MODEL_6c49ee119d724592998b9460c4d13f88",
            "value": "model.pt: 100%"
          }
        },
        "35e252607403493f87dd257e49fc362d": {
          "model_module": "@jupyter-widgets/controls",
          "model_name": "FloatProgressModel",
          "model_module_version": "1.5.0",
          "state": {
            "_dom_classes": [],
            "_model_module": "@jupyter-widgets/controls",
            "_model_module_version": "1.5.0",
            "_model_name": "FloatProgressModel",
            "_view_count": null,
            "_view_module": "@jupyter-widgets/controls",
            "_view_module_version": "1.5.0",
            "_view_name": "ProgressView",
            "bar_style": "success",
            "description": "",
            "description_tooltip": null,
            "layout": "IPY_MODEL_d134874f7ef54cf59b162b956b489e30",
            "max": 3264,
            "min": 0,
            "orientation": "horizontal",
            "style": "IPY_MODEL_2fe24119714f46e98027cc70e7c99c28",
            "value": 3264
          }
        },
        "0d462e76cdbf48e1af984825e5d8677d": {
          "model_module": "@jupyter-widgets/controls",
          "model_name": "HTMLModel",
          "model_module_version": "1.5.0",
          "state": {
            "_dom_classes": [],
            "_model_module": "@jupyter-widgets/controls",
            "_model_module_version": "1.5.0",
            "_model_name": "HTMLModel",
            "_view_count": null,
            "_view_module": "@jupyter-widgets/controls",
            "_view_module_version": "1.5.0",
            "_view_name": "HTMLView",
            "description": "",
            "description_tooltip": null,
            "layout": "IPY_MODEL_b1254b8641eb4945aa8fed20e7f4a39f",
            "placeholder": "​",
            "style": "IPY_MODEL_8a101f6a0a3e4cb9bcb94d7510849380",
            "value": " 3.26k/3.26k [00:00&lt;00:00, 9.27kB/s]"
          }
        },
        "8addcf2b06e34af1903618c2fd898995": {
          "model_module": "@jupyter-widgets/base",
          "model_name": "LayoutModel",
          "model_module_version": "1.2.0",
          "state": {
            "_model_module": "@jupyter-widgets/base",
            "_model_module_version": "1.2.0",
            "_model_name": "LayoutModel",
            "_view_count": null,
            "_view_module": "@jupyter-widgets/base",
            "_view_module_version": "1.2.0",
            "_view_name": "LayoutView",
            "align_content": null,
            "align_items": null,
            "align_self": null,
            "border": null,
            "bottom": null,
            "display": null,
            "flex": null,
            "flex_flow": null,
            "grid_area": null,
            "grid_auto_columns": null,
            "grid_auto_flow": null,
            "grid_auto_rows": null,
            "grid_column": null,
            "grid_gap": null,
            "grid_row": null,
            "grid_template_areas": null,
            "grid_template_columns": null,
            "grid_template_rows": null,
            "height": null,
            "justify_content": null,
            "justify_items": null,
            "left": null,
            "margin": null,
            "max_height": null,
            "max_width": null,
            "min_height": null,
            "min_width": null,
            "object_fit": null,
            "object_position": null,
            "order": null,
            "overflow": null,
            "overflow_x": null,
            "overflow_y": null,
            "padding": null,
            "right": null,
            "top": null,
            "visibility": null,
            "width": null
          }
        },
        "38b45dc5b9f747f697d850a6b0ac6051": {
          "model_module": "@jupyter-widgets/base",
          "model_name": "LayoutModel",
          "model_module_version": "1.2.0",
          "state": {
            "_model_module": "@jupyter-widgets/base",
            "_model_module_version": "1.2.0",
            "_model_name": "LayoutModel",
            "_view_count": null,
            "_view_module": "@jupyter-widgets/base",
            "_view_module_version": "1.2.0",
            "_view_name": "LayoutView",
            "align_content": null,
            "align_items": null,
            "align_self": null,
            "border": null,
            "bottom": null,
            "display": null,
            "flex": null,
            "flex_flow": null,
            "grid_area": null,
            "grid_auto_columns": null,
            "grid_auto_flow": null,
            "grid_auto_rows": null,
            "grid_column": null,
            "grid_gap": null,
            "grid_row": null,
            "grid_template_areas": null,
            "grid_template_columns": null,
            "grid_template_rows": null,
            "height": null,
            "justify_content": null,
            "justify_items": null,
            "left": null,
            "margin": null,
            "max_height": null,
            "max_width": null,
            "min_height": null,
            "min_width": null,
            "object_fit": null,
            "object_position": null,
            "order": null,
            "overflow": null,
            "overflow_x": null,
            "overflow_y": null,
            "padding": null,
            "right": null,
            "top": null,
            "visibility": null,
            "width": null
          }
        },
        "6c49ee119d724592998b9460c4d13f88": {
          "model_module": "@jupyter-widgets/controls",
          "model_name": "DescriptionStyleModel",
          "model_module_version": "1.5.0",
          "state": {
            "_model_module": "@jupyter-widgets/controls",
            "_model_module_version": "1.5.0",
            "_model_name": "DescriptionStyleModel",
            "_view_count": null,
            "_view_module": "@jupyter-widgets/base",
            "_view_module_version": "1.2.0",
            "_view_name": "StyleView",
            "description_width": ""
          }
        },
        "d134874f7ef54cf59b162b956b489e30": {
          "model_module": "@jupyter-widgets/base",
          "model_name": "LayoutModel",
          "model_module_version": "1.2.0",
          "state": {
            "_model_module": "@jupyter-widgets/base",
            "_model_module_version": "1.2.0",
            "_model_name": "LayoutModel",
            "_view_count": null,
            "_view_module": "@jupyter-widgets/base",
            "_view_module_version": "1.2.0",
            "_view_name": "LayoutView",
            "align_content": null,
            "align_items": null,
            "align_self": null,
            "border": null,
            "bottom": null,
            "display": null,
            "flex": null,
            "flex_flow": null,
            "grid_area": null,
            "grid_auto_columns": null,
            "grid_auto_flow": null,
            "grid_auto_rows": null,
            "grid_column": null,
            "grid_gap": null,
            "grid_row": null,
            "grid_template_areas": null,
            "grid_template_columns": null,
            "grid_template_rows": null,
            "height": null,
            "justify_content": null,
            "justify_items": null,
            "left": null,
            "margin": null,
            "max_height": null,
            "max_width": null,
            "min_height": null,
            "min_width": null,
            "object_fit": null,
            "object_position": null,
            "order": null,
            "overflow": null,
            "overflow_x": null,
            "overflow_y": null,
            "padding": null,
            "right": null,
            "top": null,
            "visibility": null,
            "width": null
          }
        },
        "2fe24119714f46e98027cc70e7c99c28": {
          "model_module": "@jupyter-widgets/controls",
          "model_name": "ProgressStyleModel",
          "model_module_version": "1.5.0",
          "state": {
            "_model_module": "@jupyter-widgets/controls",
            "_model_module_version": "1.5.0",
            "_model_name": "ProgressStyleModel",
            "_view_count": null,
            "_view_module": "@jupyter-widgets/base",
            "_view_module_version": "1.2.0",
            "_view_name": "StyleView",
            "bar_color": null,
            "description_width": ""
          }
        },
        "b1254b8641eb4945aa8fed20e7f4a39f": {
          "model_module": "@jupyter-widgets/base",
          "model_name": "LayoutModel",
          "model_module_version": "1.2.0",
          "state": {
            "_model_module": "@jupyter-widgets/base",
            "_model_module_version": "1.2.0",
            "_model_name": "LayoutModel",
            "_view_count": null,
            "_view_module": "@jupyter-widgets/base",
            "_view_module_version": "1.2.0",
            "_view_name": "LayoutView",
            "align_content": null,
            "align_items": null,
            "align_self": null,
            "border": null,
            "bottom": null,
            "display": null,
            "flex": null,
            "flex_flow": null,
            "grid_area": null,
            "grid_auto_columns": null,
            "grid_auto_flow": null,
            "grid_auto_rows": null,
            "grid_column": null,
            "grid_gap": null,
            "grid_row": null,
            "grid_template_areas": null,
            "grid_template_columns": null,
            "grid_template_rows": null,
            "height": null,
            "justify_content": null,
            "justify_items": null,
            "left": null,
            "margin": null,
            "max_height": null,
            "max_width": null,
            "min_height": null,
            "min_width": null,
            "object_fit": null,
            "object_position": null,
            "order": null,
            "overflow": null,
            "overflow_x": null,
            "overflow_y": null,
            "padding": null,
            "right": null,
            "top": null,
            "visibility": null,
            "width": null
          }
        },
        "8a101f6a0a3e4cb9bcb94d7510849380": {
          "model_module": "@jupyter-widgets/controls",
          "model_name": "DescriptionStyleModel",
          "model_module_version": "1.5.0",
          "state": {
            "_model_module": "@jupyter-widgets/controls",
            "_model_module_version": "1.5.0",
            "_model_name": "DescriptionStyleModel",
            "_view_count": null,
            "_view_module": "@jupyter-widgets/base",
            "_view_module_version": "1.2.0",
            "_view_name": "StyleView",
            "description_width": ""
          }
        }
      }
    }
  },
  "cells": [
    {
      "cell_type": "markdown",
      "metadata": {
        "id": "view-in-github",
        "colab_type": "text"
      },
      "source": [
        "<a href=\"https://colab.research.google.com/github/vandat2614/Deep-RL/blob/main/PolicyGradient_CartPole.ipynb\" target=\"_parent\"><img src=\"https://colab.research.google.com/assets/colab-badge.svg\" alt=\"Open In Colab\"/></a>"
      ]
    },
    {
      "cell_type": "code",
      "execution_count": 1,
      "metadata": {
        "colab": {
          "base_uri": "https://localhost:8080/"
        },
        "id": "injAkJQApC3M",
        "outputId": "0d8e1935-86fe-4b5b-c07c-fdbf512af7b6"
      },
      "outputs": [
        {
          "output_type": "stream",
          "name": "stdout",
          "text": [
            "  Preparing metadata (setup.py) ... \u001b[?25l\u001b[?25hdone\n",
            "  Preparing metadata (setup.py) ... \u001b[?25l\u001b[?25hdone\n"
          ]
        }
      ],
      "source": [
        "! pip install --quiet git+https://github.com/ntasfi/PyGame-Learning-Environment.git\n",
        "!pip install --quiet git+https://github.com/simoninithomas/gym-games\n",
        "!pip install --quiet numpy==1.23.5"
      ]
    },
    {
      "cell_type": "markdown",
      "source": [
        "# CartPole Environment"
      ],
      "metadata": {
        "id": "nOe2FssaqIsK"
      }
    },
    {
      "cell_type": "code",
      "source": [
        "import gym\n",
        "import gym_pygame"
      ],
      "metadata": {
        "id": "UvudzvdMpbol"
      },
      "execution_count": 2,
      "outputs": []
    },
    {
      "cell_type": "code",
      "source": [
        "env_id = \"CartPole-v1\"\n",
        "env = gym.make(env_id)"
      ],
      "metadata": {
        "id": "W2ZzxaX6pc4K"
      },
      "execution_count": 5,
      "outputs": []
    },
    {
      "cell_type": "code",
      "source": [
        "action_size = env.action_space.n\n",
        "state_size = env.observation_space.shape[0]\n",
        "\n",
        "print(\"The State Space is: \", state_size)\n",
        "print(\"The Action Space is: \", action_size)"
      ],
      "metadata": {
        "colab": {
          "base_uri": "https://localhost:8080/"
        },
        "id": "I0BbvaYTpzWX",
        "outputId": "82eff1f7-2eb3-414f-de3f-68320d68f998"
      },
      "execution_count": 6,
      "outputs": [
        {
          "output_type": "stream",
          "name": "stdout",
          "text": [
            "The State Space is:  4\n",
            "The Action Space is:  2\n"
          ]
        }
      ]
    },
    {
      "cell_type": "markdown",
      "source": [
        "# Policy Net"
      ],
      "metadata": {
        "id": "MRVt29t_qOqg"
      }
    },
    {
      "cell_type": "code",
      "source": [
        "import torch\n",
        "import torch.nn as nn\n",
        "import torch.nn.functional as F\n",
        "import torch.optim as optim\n",
        "from torch.distributions import Categorical"
      ],
      "metadata": {
        "id": "19SutkeiqFYt"
      },
      "execution_count": 7,
      "outputs": []
    },
    {
      "cell_type": "code",
      "source": [
        "class CartPoleAgent(nn.Module):\n",
        "  def __init__(self, state_size, action_size, hidden_size):\n",
        "    super(CartPoleAgent, self).__init__()\n",
        "\n",
        "    self.fc1 = nn.Linear(state_size, hidden_size)\n",
        "    self.fc2 = nn.Linear(hidden_size, action_size)\n",
        "\n",
        "    self.device = \"cuda\" if torch.cuda.is_available() else \"cpu\"\n",
        "    self.to(self.device)\n",
        "\n",
        "  def forward(self, x):\n",
        "    x = F.relu(self.fc1(x))\n",
        "    x = F.relu(self.fc2(x))\n",
        "    x = F.softmax(x, dim=1)\n",
        "    return x\n",
        "\n",
        "  def act(self, state):\n",
        "    state = torch.from_numpy(state).float().unsqueeze(0).to(self.device)\n",
        "    probs = self.forward(state).cpu()\n",
        "    m = Categorical(probs)\n",
        "    action = m.sample()\n",
        "    return action.item(), m.log_prob(action)"
      ],
      "metadata": {
        "id": "d1KMnLqiqn6O"
      },
      "execution_count": 8,
      "outputs": []
    },
    {
      "cell_type": "markdown",
      "source": [
        "# Training"
      ],
      "metadata": {
        "id": "L-N7I8kpr7Wv"
      }
    },
    {
      "cell_type": "code",
      "source": [
        "import numpy as np\n",
        "from collections import deque"
      ],
      "metadata": {
        "id": "201cJrpMtETX"
      },
      "execution_count": 9,
      "outputs": []
    },
    {
      "cell_type": "code",
      "source": [
        "def train(agent, env, num_episodes, max_step, gamma, lr, print_per_episodes):\n",
        "\n",
        "  scores = []\n",
        "  optimizer = optim.Adam(agent.parameters(), lr)\n",
        "\n",
        "  for episode in range(1, num_episodes + 1):\n",
        "\n",
        "    state = env.reset()\n",
        "    rewards, log_probs = [], []\n",
        "\n",
        "    for step in range(max_step):\n",
        "      action, log_prob = agent.act(state)\n",
        "      state, reward, done, _ = env.step(action)\n",
        "\n",
        "      rewards.append(reward)\n",
        "      log_probs.append(log_prob)\n",
        "\n",
        "      if done: break\n",
        "\n",
        "    scores.append(sum(rewards))\n",
        "\n",
        "    returns = deque(maxlen = max_step)\n",
        "    num_steps = len(rewards)\n",
        "\n",
        "    for t in range(num_steps)[::-1]:\n",
        "      discount_return = returns[0] if len(returns) > 0 else 0\n",
        "      returns.appendleft(gamma * discount_return + rewards[t])\n",
        "\n",
        "    returns = torch.tensor(returns)\n",
        "    eps = np.finfo(np.float32).eps.item()\n",
        "    returns = (returns - returns.mean()) / (returns.std() + eps)\n",
        "\n",
        "    loss = []\n",
        "    for log_prob, discount_return in zip(log_probs, returns):\n",
        "      loss.append(-log_prob * discount_return)\n",
        "\n",
        "    optimizer.zero_grad()\n",
        "    loss = torch.cat(loss).sum()\n",
        "\n",
        "    loss.backward()\n",
        "    optimizer.step()\n",
        "\n",
        "    if episode % print_per_episodes == 0:\n",
        "      print(f\"Episode: {episode} \\t Average Score: {np.mean(scores[-print_per_episodes:]):.2f}\")"
      ],
      "metadata": {
        "id": "sYA_OWVRrIBP"
      },
      "execution_count": 25,
      "outputs": []
    },
    {
      "cell_type": "code",
      "source": [
        "hyperparameters = {\n",
        "    \"env_id\" : env_id,\n",
        "    \"state_size\" : state_size,\n",
        "    \"action_size\" : action_size,\n",
        "    \"hidden_size\" : 16,\n",
        "    \"training_episodes\" : 1000,\n",
        "    \"evaluate_episodes\" : 100,\n",
        "    \"max_step\" : 1000,\n",
        "    \"gamma\" : 0.99,\n",
        "    \"lr\" : 1e-2,\n",
        "    \"print_per_episodes\" : 100\n",
        "}"
      ],
      "metadata": {
        "id": "kSyvH4xDIQe_"
      },
      "execution_count": 48,
      "outputs": []
    },
    {
      "cell_type": "code",
      "source": [
        "agent = CartPoleAgent(\n",
        "    state_size = hyperparameters[\"state_size\"],\n",
        "    action_size = hyperparameters[\"action_size\"],\n",
        "    hidden_size = hyperparameters[\"hidden_size\"]\n",
        ")"
      ],
      "metadata": {
        "id": "1qDVP9CnJRvS"
      },
      "execution_count": 28,
      "outputs": []
    },
    {
      "cell_type": "code",
      "source": [
        "train(\n",
        "    agent = agent,\n",
        "    env = env,\n",
        "    num_episodes = hyperparameters[\"training_episodes\"],\n",
        "    max_step = hyperparameters[\"max_step\"],\n",
        "    gamma = hyperparameters[\"gamma\"],\n",
        "    lr = hyperparameters[\"lr\"],\n",
        "    print_per_episodes = hyperparameters[\"print_per_episodes\"]\n",
        ")"
      ],
      "metadata": {
        "colab": {
          "base_uri": "https://localhost:8080/"
        },
        "id": "enkZNolQsLuJ",
        "outputId": "f87b59db-7212-4034-8a5e-6cf045623894"
      },
      "execution_count": 29,
      "outputs": [
        {
          "output_type": "stream",
          "name": "stdout",
          "text": [
            "Episode: 100 \t Average Score: 29.53\n",
            "Episode: 200 \t Average Score: 151.70\n",
            "Episode: 300 \t Average Score: 404.04\n",
            "Episode: 400 \t Average Score: 491.29\n",
            "Episode: 500 \t Average Score: 382.82\n",
            "Episode: 600 \t Average Score: 299.17\n",
            "Episode: 700 \t Average Score: 454.65\n",
            "Episode: 800 \t Average Score: 475.69\n",
            "Episode: 900 \t Average Score: 384.81\n",
            "Episode: 1000 \t Average Score: 493.07\n"
          ]
        }
      ]
    },
    {
      "cell_type": "markdown",
      "source": [
        "# Evaluate"
      ],
      "metadata": {
        "id": "wCOnQBOBJbm4"
      }
    },
    {
      "cell_type": "code",
      "source": [
        "def evaluate(agent, env, num_episodes, max_step):\n",
        "\n",
        "  scores = []\n",
        "  for episode in range(1, num_episodes + 1):\n",
        "\n",
        "    state = env.reset()\n",
        "    rewards = []\n",
        "\n",
        "    for step in range(max_step):\n",
        "      action, _ = agent.act(state)\n",
        "\n",
        "      state, reward, done, _ = env.step(action)\n",
        "      rewards.append(reward)\n",
        "\n",
        "      if done: break\n",
        "\n",
        "    scores.append(sum(rewards))\n",
        "\n",
        "  mean_score = np.mean(scores)\n",
        "  std_score = np.std(scores)\n",
        "\n",
        "  return mean_score, std_score"
      ],
      "metadata": {
        "id": "iSSVvidoOjYj"
      },
      "execution_count": 30,
      "outputs": []
    },
    {
      "cell_type": "code",
      "source": [
        "mean, std = evaluate(\n",
        "    agent = agent,\n",
        "    env = env,\n",
        "    num_episodes = hyperparameters[\"evaluate_episodes\"],\n",
        "    max_step = hyperparameters[\"max_step\"]\n",
        ")"
      ],
      "metadata": {
        "id": "K8pR6nLYOkpP"
      },
      "execution_count": 31,
      "outputs": []
    },
    {
      "cell_type": "code",
      "source": [
        "mean, std"
      ],
      "metadata": {
        "colab": {
          "base_uri": "https://localhost:8080/"
        },
        "id": "HedUVd5FOpEp",
        "outputId": "d4d0c5a4-62f3-4dd5-9ea3-be0e911aaf6a"
      },
      "execution_count": 32,
      "outputs": [
        {
          "output_type": "execute_result",
          "data": {
            "text/plain": [
              "(500.0, 0.0)"
            ]
          },
          "metadata": {},
          "execution_count": 32
        }
      ]
    },
    {
      "cell_type": "markdown",
      "source": [
        "# Play Video"
      ],
      "metadata": {
        "id": "mfhxMGcIOs5D"
      }
    },
    {
      "cell_type": "code",
      "source": [
        "import os\n",
        "import imageio\n",
        "\n",
        "from IPython.display import HTML\n",
        "from base64 import b64encode"
      ],
      "metadata": {
        "id": "p6cKKSLRKH96"
      },
      "execution_count": 33,
      "outputs": []
    },
    {
      "cell_type": "code",
      "source": [
        "def create_record(agent, env, filepath, fps=30):\n",
        "\n",
        "    if os.path.exists(filepath):\n",
        "        os.remove(filepath)\n",
        "\n",
        "    images = []\n",
        "    done = False\n",
        "\n",
        "    state = env.reset()\n",
        "    img = env.render(mode='rgb_array')\n",
        "    images.append(img)\n",
        "\n",
        "    while not done:\n",
        "        action, _ = agent.act(state)\n",
        "        state, reward, done, _ = env.step(action)\n",
        "        img = env.render(mode='rgb_array')\n",
        "        images.append(img)\n",
        "\n",
        "    imageio.mimsave(filepath, images, fps=fps)"
      ],
      "metadata": {
        "id": "pLSqFTTlJgxM"
      },
      "execution_count": 34,
      "outputs": []
    },
    {
      "cell_type": "code",
      "source": [
        "def show_record(filepath):\n",
        "    mp4 = open(filepath,'rb').read()\n",
        "    data_url = \"data:video/mp4;base64,\" + b64encode(mp4).decode()\n",
        "    return HTML(f\"\"\"\n",
        "        <video width=480 controls>\n",
        "            <source src=\"{data_url}\" type=\"video/mp4\">\n",
        "        </video>\n",
        "    \"\"\")"
      ],
      "metadata": {
        "id": "y4dyY0VpOHhk"
      },
      "execution_count": 35,
      "outputs": []
    },
    {
      "cell_type": "code",
      "source": [
        "create_record(agent, env, 'record.mp4')"
      ],
      "metadata": {
        "colab": {
          "base_uri": "https://localhost:8080/"
        },
        "id": "PAWR1SqaNNdc",
        "outputId": "c3bc9c83-b895-4427-bbce-56d0e77caf91"
      },
      "execution_count": 54,
      "outputs": [
        {
          "output_type": "stream",
          "name": "stderr",
          "text": [
            "WARNING:imageio_ffmpeg:IMAGEIO FFMPEG_WRITER WARNING: input image is not divisible by macro_block_size=16, resizing from (600, 400) to (608, 400) to ensure video compatibility with most codecs and players. To prevent resizing, make your input image divisible by the macro_block_size or set the macro_block_size to 1 (risking incompatibility).\n"
          ]
        }
      ]
    },
    {
      "cell_type": "code",
      "source": [
        "show_record(\"record.mp4\")"
      ],
      "metadata": {
        "colab": {
          "base_uri": "https://localhost:8080/",
          "height": 337
        },
        "id": "uqU2BUqzORZc",
        "outputId": "435f6e77-253a-499a-eea0-18ed80e5d61d"
      },
      "execution_count": 55,
      "outputs": [
        {
          "output_type": "execute_result",
          "data": {
            "text/plain": [
              "<IPython.core.display.HTML object>"
            ],
            "text/html": [
              "\n",
              "        <video width=480 controls>\n",
              "            <source src=\"data:video/mp4;base64,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\" type=\"video/mp4\">\n",
              "        </video>\n",
              "    "
            ]
          },
          "metadata": {},
          "execution_count": 55
        }
      ]
    },
    {
      "cell_type": "markdown",
      "source": [
        "# Push to Hub"
      ],
      "metadata": {
        "id": "JXlSfchcPIC8"
      }
    },
    {
      "cell_type": "code",
      "source": [
        "from huggingface_hub import HfApi, login\n",
        "from huggingface_hub.repocard import metadata_eval_result, metadata_save\n",
        "\n",
        "import json\n",
        "import datetime\n",
        "from pathlib import Path\n",
        "\n",
        "import tempfile\n",
        "from google.colab import userdata"
      ],
      "metadata": {
        "id": "uZotWdxJYXY9"
      },
      "execution_count": 43,
      "outputs": []
    },
    {
      "cell_type": "code",
      "source": [
        "def push_to_hub(repo_id, agent, env, hyperparameters, video_fps=30):\n",
        "\n",
        "  _, repo_name = repo_id.split(\"/\")\n",
        "  api = HfApi()\n",
        "\n",
        "  # Step 1: Create the repo\n",
        "  repo_url = api.create_repo(\n",
        "        repo_id=repo_id,\n",
        "        exist_ok=True,\n",
        "  )\n",
        "\n",
        "  with tempfile.TemporaryDirectory() as tmpdirname:\n",
        "    local_directory = Path(tmpdirname)\n",
        "\n",
        "    # Step 2: Save the model\n",
        "    torch.save(agent, local_directory / \"model.pt\")\n",
        "\n",
        "    # Step 3: Save the hyperparameters to JSON\n",
        "    with open(local_directory / \"hyperparameters.json\", \"w\") as outfile:\n",
        "      json.dump(hyperparameters, outfile)\n",
        "\n",
        "    # Step 4: Evaluate the model and build JSON\n",
        "    mean_reward, std_reward = evaluate(\n",
        "        agent,\n",
        "        env,\n",
        "        num_episodes=hyperparameters[\"evaluate_episodes\"],\n",
        "        max_step=hyperparameters[\"max_step\"]\n",
        "    )\n",
        "\n",
        "    eval_datetime = datetime.datetime.now()\n",
        "    eval_form_datetime = eval_datetime.isoformat() # ISO 8601, ex 2025-05-21T21:35:42.123456. T ngăn cách giữa ngày và giờ, giờ:phút:giây.microsecond\n",
        "\n",
        "    evaluate_data = {\n",
        "          \"env_id\": hyperparameters[\"env_id\"],\n",
        "          \"mean_reward\": mean_reward,\n",
        "          \"n_evaluation_episodes\": hyperparameters[\"evaluate_episodes\"],\n",
        "          \"eval_datetime\": eval_form_datetime,\n",
        "    }\n",
        "\n",
        "    with open(local_directory / \"results.json\", \"w\") as outfile:\n",
        "        json.dump(evaluate_data, outfile)\n",
        "\n",
        "    # Step 5: Create the model card\n",
        "    env_name = hyperparameters[\"env_id\"]\n",
        "\n",
        "    metadata = {}\n",
        "    metadata[\"tags\"] = [\n",
        "          env_name,\n",
        "          \"reinforce\",\n",
        "          \"reinforcement-learning\",\n",
        "          \"custom-implementation\",\n",
        "          \"deep-rl-class\"\n",
        "      ]\n",
        "\n",
        "    # Add metrics\n",
        "    eval = metadata_eval_result(\n",
        "        model_pretty_name=repo_name,\n",
        "        task_pretty_name=\"reinforcement-learning\",\n",
        "        task_id=\"reinforcement-learning\",\n",
        "        metrics_pretty_name=\"mean_reward\",\n",
        "        metrics_id=\"mean_reward\",\n",
        "        metrics_value=f\"{mean_reward:.2f} +/- {std_reward:.2f}\",\n",
        "        dataset_pretty_name=env_name,\n",
        "        dataset_id=env_name,\n",
        "      )\n",
        "\n",
        "    # Merges both dictionaries\n",
        "    metadata = {**metadata, **eval} # gộp 2 dict thành 1 dict mới\n",
        "\n",
        "    model_card = f\"\"\"\n",
        "  # **Reinforce** Agent playing **{env_id}**\n",
        "  This is a trained model of a **Reinforce** agent playing **{env_id}** .\n",
        "  To learn to use this model and train yours check Unit 4 of the Deep Reinforcement Learning Course: https://huggingface.co/deep-rl-course/unit4/introduction\n",
        "  My name is VanDat =))\n",
        "  \"\"\"\n",
        "\n",
        "    readme_path = local_directory / \"README.md\"\n",
        "    readme = \"\"\n",
        "    if readme_path.exists():\n",
        "        with readme_path.open(\"r\", encoding=\"utf8\") as f:\n",
        "          readme = f.read()\n",
        "    else:\n",
        "      readme = model_card\n",
        "\n",
        "    with readme_path.open(\"w\", encoding=\"utf-8\") as f:\n",
        "      f.write(readme)\n",
        "\n",
        "    # Save our metrics to Readme metadata\n",
        "    metadata_save(readme_path, metadata)\n",
        "\n",
        "    # Step 6: Record a video\n",
        "    video_path =  local_directory / \"replay.mp4\"\n",
        "    create_record(agent, env, video_path, video_fps)\n",
        "\n",
        "    # Step 7. Push everything to the Hub\n",
        "    api.upload_folder(\n",
        "          repo_id=repo_id,\n",
        "          folder_path=local_directory,\n",
        "          path_in_repo=\".\",\n",
        "    )\n",
        "\n",
        "    print(f\"Your model is pushed to the Hub. You can view your model here: {repo_url}\")"
      ],
      "metadata": {
        "id": "EbBNUDsJYgmM"
      },
      "execution_count": 50,
      "outputs": []
    },
    {
      "cell_type": "code",
      "source": [
        "login(token=userdata.get(\"HF_TOKEN\"))"
      ],
      "metadata": {
        "id": "vKCoS5MxZRm9"
      },
      "execution_count": 51,
      "outputs": []
    },
    {
      "cell_type": "code",
      "source": [
        "push_to_hub(\n",
        "    repo_id=\"vandat2601/Reinforce-CartPole\",\n",
        "    agent=agent,\n",
        "    env=env,\n",
        "    hyperparameters=hyperparameters,\n",
        "    video_fps=30\n",
        ")"
      ],
      "metadata": {
        "colab": {
          "base_uri": "https://localhost:8080/",
          "height": 156,
          "referenced_widgets": [
            "b53b41ada23d4c37b4e0a1be4d5064a4",
            "09da878d3bac4e80b971ef1d55733f05",
            "35e252607403493f87dd257e49fc362d",
            "0d462e76cdbf48e1af984825e5d8677d",
            "8addcf2b06e34af1903618c2fd898995",
            "38b45dc5b9f747f697d850a6b0ac6051",
            "6c49ee119d724592998b9460c4d13f88",
            "d134874f7ef54cf59b162b956b489e30",
            "2fe24119714f46e98027cc70e7c99c28",
            "b1254b8641eb4945aa8fed20e7f4a39f",
            "8a101f6a0a3e4cb9bcb94d7510849380"
          ]
        },
        "id": "wrE-TnP9Ykz-",
        "outputId": "8eb4688f-414a-44ba-d195-36f01e575d83"
      },
      "execution_count": 52,
      "outputs": [
        {
          "output_type": "stream",
          "name": "stderr",
          "text": [
            "/usr/local/lib/python3.11/dist-packages/gym/core.py:43: DeprecationWarning: \u001b[33mWARN: The argument mode in render method is deprecated; use render_mode during environment initialization instead.\n",
            "See here for more information: https://www.gymlibrary.ml/content/api/\u001b[0m\n",
            "  deprecation(\n",
            "WARNING:imageio_ffmpeg:IMAGEIO FFMPEG_WRITER WARNING: input image is not divisible by macro_block_size=16, resizing from (600, 400) to (608, 400) to ensure video compatibility with most codecs and players. To prevent resizing, make your input image divisible by the macro_block_size or set the macro_block_size to 1 (risking incompatibility).\n"
          ]
        },
        {
          "output_type": "display_data",
          "data": {
            "text/plain": [
              "model.pt:   0%|          | 0.00/3.26k [00:00<?, ?B/s]"
            ],
            "application/vnd.jupyter.widget-view+json": {
              "version_major": 2,
              "version_minor": 0,
              "model_id": "b53b41ada23d4c37b4e0a1be4d5064a4"
            }
          },
          "metadata": {}
        },
        {
          "output_type": "stream",
          "name": "stdout",
          "text": [
            "Your model is pushed to the Hub. You can view your model here: https://huggingface.co/vandat2601/Reinforce-CartPole\n"
          ]
        }
      ]
    }
  ]
}