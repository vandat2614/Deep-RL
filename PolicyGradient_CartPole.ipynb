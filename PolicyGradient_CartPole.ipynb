{
  "nbformat": 4,
  "nbformat_minor": 0,
  "metadata": {
    "colab": {
      "provenance": [],
      "gpuType": "T4",
      "authorship_tag": "ABX9TyM4iWFi/e1i69rKurzk0zqo",
      "include_colab_link": true
    },
    "kernelspec": {
      "name": "python3",
      "display_name": "Python 3"
    },
    "language_info": {
      "name": "python"
    },
    "accelerator": "GPU"
  },
  "cells": [
    {
      "cell_type": "markdown",
      "metadata": {
        "id": "view-in-github",
        "colab_type": "text"
      },
      "source": [
        "<a href=\"https://colab.research.google.com/github/vandat2614/Deep-RL/blob/main/PolicyGradient_CartPole.ipynb\" target=\"_parent\"><img src=\"https://colab.research.google.com/assets/colab-badge.svg\" alt=\"Open In Colab\"/></a>"
      ]
    },
    {
      "cell_type": "code",
      "execution_count": null,
      "metadata": {
        "id": "injAkJQApC3M"
      },
      "outputs": [],
      "source": [
        "! pip install --quiet git+https://github.com/ntasfi/PyGame-Learning-Environment.git\n",
        "!pip install --quiet git+https://github.com/simoninithomas/gym-games\n",
        "!pip install --quiet numpy==1.23.5"
      ]
    },
    {
      "cell_type": "markdown",
      "source": [
        "# CartPole Environment"
      ],
      "metadata": {
        "id": "nOe2FssaqIsK"
      }
    },
    {
      "cell_type": "code",
      "source": [
        "import gym\n",
        "import gym_pygame"
      ],
      "metadata": {
        "id": "UvudzvdMpbol"
      },
      "execution_count": null,
      "outputs": []
    },
    {
      "cell_type": "code",
      "source": [
        "env_id = \"CartPole-v1\"\n",
        "env = gym.make(env_id)"
      ],
      "metadata": {
        "id": "W2ZzxaX6pc4K"
      },
      "execution_count": null,
      "outputs": []
    },
    {
      "cell_type": "code",
      "source": [
        "action_size = env.action_space.n\n",
        "state_size = env.observation_space.shape[0]\n",
        "\n",
        "print(\"The State Space is: \", state_size)\n",
        "print(\"The Action Space is: \", action_size)"
      ],
      "metadata": {
        "id": "I0BbvaYTpzWX"
      },
      "execution_count": null,
      "outputs": []
    },
    {
      "cell_type": "markdown",
      "source": [
        "# Policy Net"
      ],
      "metadata": {
        "id": "MRVt29t_qOqg"
      }
    },
    {
      "cell_type": "code",
      "source": [
        "import torch\n",
        "import torch.nn as nn\n",
        "import torch.nn.functional as F\n",
        "import torch.optim as optim\n",
        "from torch.distributions import Categorical"
      ],
      "metadata": {
        "id": "19SutkeiqFYt"
      },
      "execution_count": null,
      "outputs": []
    },
    {
      "cell_type": "code",
      "source": [
        "class CartPoleAgent(nn.Module):\n",
        "  def __init__(self, state_size, action_size, hidden_size):\n",
        "    super(CartPoleAgent, self).__init__()\n",
        "\n",
        "    self.fc1 = nn.Linear(state_size, hidden_size)\n",
        "    self.fc2 = nn.Linear(hidden_size, action_size)\n",
        "\n",
        "    self.device = \"cuda\" if torch.cuda.is_available() else \"cpu\"\n",
        "    self.to(self.device)\n",
        "\n",
        "  def forward(self, x):\n",
        "    x = F.relu(self.fc1(x))\n",
        "    x = F.relu(self.fc2(x))\n",
        "    x = F.softmax(x, dim=1)\n",
        "    return x\n",
        "\n",
        "  def act(self, state):\n",
        "    state = torch.from_numpy(state).float().unsqueeze(0).to(self.device)\n",
        "    probs = self.forward(state).cpu()\n",
        "    m = Categorical(probs)\n",
        "    action = m.sample()\n",
        "    return action.item(), m.log_prob(action)"
      ],
      "metadata": {
        "id": "d1KMnLqiqn6O"
      },
      "execution_count": null,
      "outputs": []
    },
    {
      "cell_type": "markdown",
      "source": [
        "# Training"
      ],
      "metadata": {
        "id": "L-N7I8kpr7Wv"
      }
    },
    {
      "cell_type": "code",
      "source": [
        "import numpy as np\n",
        "from collections import deque"
      ],
      "metadata": {
        "id": "201cJrpMtETX"
      },
      "execution_count": null,
      "outputs": []
    },
    {
      "cell_type": "code",
      "source": [
        "def train(agent, env, num_episodes, max_step, gamma, lr, print_per_episodes):\n",
        "\n",
        "  scores = []\n",
        "  optimizer = optim.Adam(agent.parameters(), lr)\n",
        "\n",
        "  for episode in range(1, num_episodes + 1):\n",
        "\n",
        "    state = env.reset()\n",
        "    rewards, log_probs = [], []\n",
        "\n",
        "    for step in range(max_step):\n",
        "      action, log_prob = agent.act(state)\n",
        "      state, reward, done, _ = env.step(action)\n",
        "\n",
        "      rewards.append(reward)\n",
        "      log_probs.append(log_prob)\n",
        "\n",
        "      if done: break\n",
        "\n",
        "    scores.append(sum(rewards))\n",
        "\n",
        "    returns = deque(maxlen = max_step)\n",
        "    num_steps = len(rewards)\n",
        "\n",
        "    for t in range(num_steps)[::-1]:\n",
        "      discount_return = returns[0] if len(returns) > 0 else 0\n",
        "      returns.appendleft(gamma * discount_return + rewards[t])\n",
        "\n",
        "    returns = torch.tensor(returns)\n",
        "    eps = np.finfo(np.float32).eps.item()\n",
        "    returns = (returns - returns.mean()) / (returns.std() + eps)\n",
        "\n",
        "    loss = []\n",
        "    for log_prob, discount_return in zip(log_probs, returns):\n",
        "      loss.append(-log_prob * discount_return)\n",
        "\n",
        "    optimizer.zero_grad()\n",
        "    loss = torch.cat(loss).sum()\n",
        "\n",
        "    loss.backward()\n",
        "    optimizer.step()\n",
        "\n",
        "    if episode % print_per_episodes == 0:\n",
        "      print(f\"Episode: {episode} \\t Average Score: {np.mean(scores[-print_per_episodes:]):.2f}\")"
      ],
      "metadata": {
        "id": "sYA_OWVRrIBP"
      },
      "execution_count": null,
      "outputs": []
    },
    {
      "cell_type": "code",
      "source": [
        "hyperparameters = {\n",
        "    \"env_id\" : env_id,\n",
        "    \"state_size\" : state_size,\n",
        "    \"action_size\" : action_size,\n",
        "    \"hidden_size\" : 16,\n",
        "    \"training_episodes\" : 1000,\n",
        "    \"evaluate_episodes\" : 100,\n",
        "    \"max_step\" : 1000,\n",
        "    \"gamma\" : 0.99,\n",
        "    \"lr\" : 1e-2,\n",
        "    \"print_per_episodes\" : 100\n",
        "}"
      ],
      "metadata": {
        "id": "kSyvH4xDIQe_"
      },
      "execution_count": null,
      "outputs": []
    },
    {
      "cell_type": "code",
      "source": [
        "agent = CartPoleAgent(\n",
        "    state_size = hyperparameters[\"state_size\"],\n",
        "    action_size = hyperparameters[\"action_size\"],\n",
        "    hidden_size = hyperparameters[\"hidden_size\"]\n",
        ")"
      ],
      "metadata": {
        "id": "1qDVP9CnJRvS"
      },
      "execution_count": null,
      "outputs": []
    },
    {
      "cell_type": "code",
      "source": [
        "train(\n",
        "    agent = agent,\n",
        "    env = env,\n",
        "    num_episodes = hyperparameters[\"training_episodes\"],\n",
        "    max_step = hyperparameters[\"max_step\"],\n",
        "    gamma = hyperparameters[\"gamma\"],\n",
        "    lr = hyperparameters[\"lr\"],\n",
        "    print_per_episodes = hyperparameters[\"print_per_episodes\"]\n",
        ")"
      ],
      "metadata": {
        "id": "enkZNolQsLuJ"
      },
      "execution_count": null,
      "outputs": []
    },
    {
      "cell_type": "markdown",
      "source": [
        "# Evaluate"
      ],
      "metadata": {
        "id": "wCOnQBOBJbm4"
      }
    },
    {
      "cell_type": "code",
      "source": [
        "def evaluate(agent, env, num_episodes, max_step):\n",
        "\n",
        "  scores = []\n",
        "  for episode in range(1, num_episodes + 1):\n",
        "\n",
        "    state = env.reset()\n",
        "    rewards = []\n",
        "\n",
        "    for step in range(max_step):\n",
        "      action, _ = agent.act(state)\n",
        "\n",
        "      state, reward, done, _ = env.step(action)\n",
        "      rewards.append(reward)\n",
        "\n",
        "      if done: break\n",
        "\n",
        "    scores.append(sum(rewards))\n",
        "\n",
        "  mean_score = np.mean(scores)\n",
        "  std_score = np.std(scores)\n",
        "\n",
        "  return mean_score, std_score"
      ],
      "metadata": {
        "id": "iSSVvidoOjYj"
      },
      "execution_count": null,
      "outputs": []
    },
    {
      "cell_type": "code",
      "source": [
        "mean, std = evaluate(\n",
        "    agent = agent,\n",
        "    env = env,\n",
        "    num_episodes = hyperparameters[\"evaluate_episodes\"],\n",
        "    max_step = hyperparameters[\"max_step\"]\n",
        ")"
      ],
      "metadata": {
        "id": "K8pR6nLYOkpP"
      },
      "execution_count": null,
      "outputs": []
    },
    {
      "cell_type": "code",
      "source": [
        "mean, std"
      ],
      "metadata": {
        "id": "HedUVd5FOpEp"
      },
      "execution_count": null,
      "outputs": []
    },
    {
      "cell_type": "markdown",
      "source": [
        "# Play Video"
      ],
      "metadata": {
        "id": "mfhxMGcIOs5D"
      }
    },
    {
      "cell_type": "code",
      "source": [
        "import os\n",
        "import imageio\n",
        "\n",
        "from IPython.display import HTML\n",
        "from base64 import b64encode"
      ],
      "metadata": {
        "id": "p6cKKSLRKH96"
      },
      "execution_count": null,
      "outputs": []
    },
    {
      "cell_type": "code",
      "source": [
        "def create_record(agent, env, filepath, fps=30):\n",
        "\n",
        "    if os.path.exists(filepath):\n",
        "        os.remove(filepath)\n",
        "\n",
        "    images = []\n",
        "    done = False\n",
        "\n",
        "    state = env.reset()\n",
        "    img = env.render(mode='rgb_array')\n",
        "    images.append(img)\n",
        "\n",
        "    while not done:\n",
        "        action, _ = agent.act(state)\n",
        "        state, reward, done, _ = env.step(action)\n",
        "        img = env.render(mode='rgb_array')\n",
        "        images.append(img)\n",
        "\n",
        "    imageio.mimsave(filepath, images, fps=fps)"
      ],
      "metadata": {
        "id": "pLSqFTTlJgxM"
      },
      "execution_count": null,
      "outputs": []
    },
    {
      "cell_type": "code",
      "source": [
        "def show_record(filepath):\n",
        "    mp4 = open(filepath,'rb').read()\n",
        "    data_url = \"data:video/mp4;base64,\" + b64encode(mp4).decode()\n",
        "    return HTML(f\"\"\"\n",
        "        <video width=480 controls>\n",
        "            <source src=\"{data_url}\" type=\"video/mp4\">\n",
        "        </video>\n",
        "    \"\"\")"
      ],
      "metadata": {
        "id": "y4dyY0VpOHhk"
      },
      "execution_count": null,
      "outputs": []
    },
    {
      "cell_type": "code",
      "source": [
        "create_record(agent, env, 'record.mp4')"
      ],
      "metadata": {
        "id": "PAWR1SqaNNdc"
      },
      "execution_count": null,
      "outputs": []
    },
    {
      "cell_type": "code",
      "source": [
        "show_record(\"record.mp4\")"
      ],
      "metadata": {
        "id": "uqU2BUqzORZc"
      },
      "execution_count": null,
      "outputs": []
    },
    {
      "cell_type": "markdown",
      "source": [
        "# Push to Hub"
      ],
      "metadata": {
        "id": "JXlSfchcPIC8"
      }
    },
    {
      "cell_type": "code",
      "source": [
        "from huggingface_hub import HfApi, login\n",
        "from huggingface_hub.repocard import metadata_eval_result, metadata_save\n",
        "\n",
        "import json\n",
        "import datetime\n",
        "from pathlib import Path\n",
        "\n",
        "import tempfile\n",
        "from google.colab import userdata"
      ],
      "metadata": {
        "id": "uZotWdxJYXY9"
      },
      "execution_count": null,
      "outputs": []
    },
    {
      "cell_type": "code",
      "source": [
        "def push_to_hub(repo_id, agent, env, hyperparameters, video_fps=30):\n",
        "\n",
        "  _, repo_name = repo_id.split(\"/\")\n",
        "  api = HfApi()\n",
        "\n",
        "  # Step 1: Create the repo\n",
        "  repo_url = api.create_repo(\n",
        "        repo_id=repo_id,\n",
        "        exist_ok=True,\n",
        "  )\n",
        "\n",
        "  with tempfile.TemporaryDirectory() as tmpdirname:\n",
        "    local_directory = Path(tmpdirname)\n",
        "\n",
        "    # Step 2: Save the model\n",
        "    torch.save(agent, local_directory / \"model.pt\")\n",
        "\n",
        "    # Step 3: Save the hyperparameters to JSON\n",
        "    with open(local_directory / \"hyperparameters.json\", \"w\") as outfile:\n",
        "      json.dump(hyperparameters, outfile)\n",
        "\n",
        "    # Step 4: Evaluate the model and build JSON\n",
        "    mean_reward, std_reward = evaluate(\n",
        "        agent,\n",
        "        env,\n",
        "        num_episodes=hyperparameters[\"evaluate_episodes\"],\n",
        "        max_step=hyperparameters[\"max_step\"]\n",
        "    )\n",
        "\n",
        "    eval_datetime = datetime.datetime.now()\n",
        "    eval_form_datetime = eval_datetime.isoformat() # ISO 8601, ex 2025-05-21T21:35:42.123456. T ngăn cách giữa ngày và giờ, giờ:phút:giây.microsecond\n",
        "\n",
        "    evaluate_data = {\n",
        "          \"env_id\": hyperparameters[\"env_id\"],\n",
        "          \"mean_reward\": mean_reward,\n",
        "          \"n_evaluation_episodes\": hyperparameters[\"evaluate_episodes\"],\n",
        "          \"eval_datetime\": eval_form_datetime,\n",
        "    }\n",
        "\n",
        "    with open(local_directory / \"results.json\", \"w\") as outfile:\n",
        "        json.dump(evaluate_data, outfile)\n",
        "\n",
        "    # Step 5: Create the model card\n",
        "    env_name = hyperparameters[\"env_id\"]\n",
        "\n",
        "    metadata = {}\n",
        "    metadata[\"tags\"] = [\n",
        "          env_name,\n",
        "          \"reinforce\",\n",
        "          \"reinforcement-learning\",\n",
        "          \"custom-implementation\",\n",
        "          \"deep-rl-class\"\n",
        "      ]\n",
        "\n",
        "    # Add metrics\n",
        "    eval = metadata_eval_result(\n",
        "        model_pretty_name=repo_name,\n",
        "        task_pretty_name=\"reinforcement-learning\",\n",
        "        task_id=\"reinforcement-learning\",\n",
        "        metrics_pretty_name=\"mean_reward\",\n",
        "        metrics_id=\"mean_reward\",\n",
        "        metrics_value=f\"{mean_reward:.2f} +/- {std_reward:.2f}\",\n",
        "        dataset_pretty_name=env_name,\n",
        "        dataset_id=env_name,\n",
        "      )\n",
        "\n",
        "    # Merges both dictionaries\n",
        "    metadata = {**metadata, **eval} # gộp 2 dict thành 1 dict mới\n",
        "\n",
        "    model_card = f\"\"\"\n",
        "  # **Reinforce** Agent playing **{env_id}**\n",
        "  This is a trained model of a **Reinforce** agent playing **{env_id}** .\n",
        "  To learn to use this model and train yours check Unit 4 of the Deep Reinforcement Learning Course: https://huggingface.co/deep-rl-course/unit4/introduction\n",
        "  My name is VanDat =))\n",
        "  \"\"\"\n",
        "\n",
        "    readme_path = local_directory / \"README.md\"\n",
        "    readme = \"\"\n",
        "    if readme_path.exists():\n",
        "        with readme_path.open(\"r\", encoding=\"utf8\") as f:\n",
        "          readme = f.read()\n",
        "    else:\n",
        "      readme = model_card\n",
        "\n",
        "    with readme_path.open(\"w\", encoding=\"utf-8\") as f:\n",
        "      f.write(readme)\n",
        "\n",
        "    # Save our metrics to Readme metadata\n",
        "    metadata_save(readme_path, metadata)\n",
        "\n",
        "    # Step 6: Record a video\n",
        "    video_path =  local_directory / \"replay.mp4\"\n",
        "    create_record(agent, env, video_path, video_fps)\n",
        "\n",
        "    # Step 7. Push everything to the Hub\n",
        "    api.upload_folder(\n",
        "          repo_id=repo_id,\n",
        "          folder_path=local_directory,\n",
        "          path_in_repo=\".\",\n",
        "    )\n",
        "\n",
        "    print(f\"Your model is pushed to the Hub. You can view your model here: {repo_url}\")"
      ],
      "metadata": {
        "id": "EbBNUDsJYgmM"
      },
      "execution_count": null,
      "outputs": []
    },
    {
      "cell_type": "code",
      "source": [
        "login(token=userdata.get(\"HF_TOKEN\"))"
      ],
      "metadata": {
        "id": "vKCoS5MxZRm9"
      },
      "execution_count": null,
      "outputs": []
    },
    {
      "cell_type": "code",
      "source": [
        "name = userdata.get(\"HF_NAME\")\n",
        "\n",
        "push_to_hub(\n",
        "    repo_id=f\"{name}/Reinforce-CartPole\",\n",
        "    agent=agent,\n",
        "    env=env,\n",
        "    hyperparameters=hyperparameters,\n",
        "    video_fps=30\n",
        ")"
      ],
      "metadata": {
        "id": "wrE-TnP9Ykz-"
      },
      "execution_count": null,
      "outputs": []
    }
  ]
}